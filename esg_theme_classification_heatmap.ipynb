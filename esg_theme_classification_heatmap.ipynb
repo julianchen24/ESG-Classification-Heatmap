{
 "cells": [
  {
   "cell_type": "markdown",
   "metadata": {},
   "source": [
    "# ESG Theme Classification Heatmap Demo\n",
    "\n",
    "This notebook demonstrates how to classify ESG (Environmental, Social, Governance) themes in text and visualize the results as a heatmap."
   ]
  },
  {
   "cell_type": "markdown",
   "metadata": {},
   "source": [
    "# Required Libraries\n",
    "\n",
    "This notebook requires the following libraries (install via requirements.txt):\n",
    "- spacy (with en_core_web_sm)\n",
    "- transformers\n",
    "- pandas\n",
    "- matplotlib\n",
    "- seaborn"
   ]
  },
  {
   "cell_type": "code",
   "execution_count": null,
   "metadata": {},
   "outputs": [],
   "source": [
    "# Input Document\n",
    "# Paste your CSR (Corporate Social Responsibility) report or similar text document below\n",
    "\n",
    "input_text = \"\"\"Example CSR report text. \n",
    "This is a placeholder. Please replace this with your actual CSR report or text document.\n",
    "\"\"\""
   ]
  },
  {
   "cell_type": "code",
   "execution_count": null,
   "metadata": {},
   "outputs": [],
   "source": [
    "# Sentence Splitting with spaCy\n",
    "\n",
    "# Import the spaCy library\n",
    "import spacy\n",
    "\n",
    "# Load the English language model (small version)\n",
    "nlp = spacy.load(\"en_core_web_sm\")\n",
    "\n",
    "# Process the input text with spaCy\n",
    "# This creates a Doc object with linguistic annotations\n",
    "doc = nlp(input_text)\n",
    "\n",
    "# Extract sentences using spaCy's sentence segmentation\n",
    "# spaCy identifies sentence boundaries based on punctuation and other linguistic features\n",
    "sentences = [sent.text.strip() for sent in doc.sents]\n",
    "\n",
    "# Print the list of sentences for verification\n",
    "print(f\"Found {len(sentences)} sentences:\")\n",
    "for i, sentence in enumerate(sentences, 1):\n",
    "    print(f\"{i}. {sentence}\")"
   ]
  }
 ],
 "metadata": {
  "kernelspec": {
   "display_name": "Python 3 (ipykernel)",
   "language": "python",
   "name": "python3"
  },
  "language_info": {
   "codemirror_mode": {
    "name": "ipython",
    "version": 3
   },
   "file_extension": ".py",
   "mimetype": "text/x-python",
   "name": "python",
   "nbconvert_exporter": "python",
   "pygments_lexer": "ipython3",
   "version": "3.12.6"
  }
 },
 "nbformat": 4,
 "nbformat_minor": 4
}
